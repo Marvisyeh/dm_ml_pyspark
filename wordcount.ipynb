{
 "cells": [
  {
   "cell_type": "code",
   "execution_count": 17,
   "id": "d9cccad3",
   "metadata": {},
   "outputs": [
    {
     "data": {
      "text/html": [
       "\n",
       "        <div>\n",
       "            <p><b>SparkContext</b></p>\n",
       "\n",
       "            <p><a href=\"http://192.168.0.188:4040\">Spark UI</a></p>\n",
       "\n",
       "            <dl>\n",
       "              <dt>Version</dt>\n",
       "                <dd><code>v3.2.1</code></dd>\n",
       "              <dt>Master</dt>\n",
       "                <dd><code>spark://devenv:7077</code></dd>\n",
       "              <dt>AppName</dt>\n",
       "                <dd><code>PySparkShell</code></dd>\n",
       "            </dl>\n",
       "        </div>\n",
       "        "
      ],
      "text/plain": [
       "<SparkContext master=spark://devenv:7077 appName=PySparkShell>"
      ]
     },
     "execution_count": 17,
     "metadata": {},
     "output_type": "execute_result"
    }
   ],
   "source": [
    "sc"
   ]
  },
  {
   "cell_type": "code",
   "execution_count": 18,
   "id": "9574058c",
   "metadata": {},
   "outputs": [
    {
     "data": {
      "text/html": [
       "\n",
       "            <div>\n",
       "                <p><b>SparkSession - hive</b></p>\n",
       "                \n",
       "        <div>\n",
       "            <p><b>SparkContext</b></p>\n",
       "\n",
       "            <p><a href=\"http://192.168.0.188:4040\">Spark UI</a></p>\n",
       "\n",
       "            <dl>\n",
       "              <dt>Version</dt>\n",
       "                <dd><code>v3.2.1</code></dd>\n",
       "              <dt>Master</dt>\n",
       "                <dd><code>spark://devenv:7077</code></dd>\n",
       "              <dt>AppName</dt>\n",
       "                <dd><code>PySparkShell</code></dd>\n",
       "            </dl>\n",
       "        </div>\n",
       "        \n",
       "            </div>\n",
       "        "
      ],
      "text/plain": [
       "<pyspark.sql.session.SparkSession at 0x7ff6746a1250>"
      ]
     },
     "execution_count": 18,
     "metadata": {},
     "output_type": "execute_result"
    }
   ],
   "source": [
    "spark"
   ]
  },
  {
   "cell_type": "code",
   "execution_count": 19,
   "id": "83357eab",
   "metadata": {},
   "outputs": [],
   "source": [
    "lines = sc.textFile(\"hdfs://devenv/user/datasets/wordcount/data\")"
   ]
  },
  {
   "cell_type": "code",
   "execution_count": 20,
   "id": "b66d7534",
   "metadata": {},
   "outputs": [],
   "source": [
    "words = lines.flatMap(lambda x: x.split(\" \"))"
   ]
  },
  {
   "cell_type": "code",
   "execution_count": 21,
   "id": "a480fba8",
   "metadata": {},
   "outputs": [],
   "source": [
    "pairs = words.map(lambda x: (x,1))"
   ]
  },
  {
   "cell_type": "code",
   "execution_count": 22,
   "id": "002f71f0",
   "metadata": {},
   "outputs": [],
   "source": [
    "wordcounts = pairs.reduceByKey(lambda x,y : x+y )"
   ]
  },
  {
   "cell_type": "code",
   "execution_count": 25,
   "id": "0ce71164",
   "metadata": {
    "scrolled": false
   },
   "outputs": [],
   "source": [
    "wordcounts.saveAsTextFile(\"hdfs://devenv/user/wordcount/output\")"
   ]
  },
  {
   "cell_type": "code",
   "execution_count": 33,
   "id": "a9c10e09",
   "metadata": {},
   "outputs": [
    {
     "data": {
      "text/plain": [
       "[('The', 2550),\n",
       " ('Project', 78),\n",
       " ('EBook', 2),\n",
       " ('of', 14854),\n",
       " ('Peace,', 2),\n",
       " ('Leo', 4),\n",
       " ('', 13598),\n",
       " ('is', 2989),\n",
       " ('use', 69),\n",
       " ('anyone', 110),\n",
       " ('anywhere', 14),\n",
       " ('at', 4204),\n",
       " ('no', 1000),\n",
       " ('restrictions', 2),\n",
       " ('whatsoever.', 2),\n",
       " ('may', 245),\n",
       " ('it,', 326),\n",
       " ('give', 249),\n",
       " ('away', 364),\n",
       " ('re-use', 2)]"
      ]
     },
     "execution_count": 33,
     "metadata": {},
     "output_type": "execute_result"
    }
   ],
   "source": [
    "wordcounts.take(20)"
   ]
  },
  {
   "cell_type": "code",
   "execution_count": null,
   "id": "60899dec",
   "metadata": {},
   "outputs": [],
   "source": []
  }
 ],
 "metadata": {
  "kernelspec": {
   "display_name": "Python 3",
   "language": "python",
   "name": "python3"
  },
  "language_info": {
   "codemirror_mode": {
    "name": "ipython",
    "version": 3
   },
   "file_extension": ".py",
   "mimetype": "text/x-python",
   "name": "python",
   "nbconvert_exporter": "python",
   "pygments_lexer": "ipython3",
   "version": "3.8.8"
  }
 },
 "nbformat": 4,
 "nbformat_minor": 5
}
