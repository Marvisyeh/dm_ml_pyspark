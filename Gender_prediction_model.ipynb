{
 "cells": [
  {
   "cell_type": "code",
   "execution_count": 1,
   "id": "2a91542c",
   "metadata": {},
   "outputs": [
    {
     "data": {
      "text/html": [
       "\n",
       "        <div>\n",
       "            <p><b>SparkContext</b></p>\n",
       "\n",
       "            <p><a href=\"http://192.168.0.188:4040\">Spark UI</a></p>\n",
       "\n",
       "            <dl>\n",
       "              <dt>Version</dt>\n",
       "                <dd><code>v3.2.1</code></dd>\n",
       "              <dt>Master</dt>\n",
       "                <dd><code>spark://devenv:7077</code></dd>\n",
       "              <dt>AppName</dt>\n",
       "                <dd><code>PySparkShell</code></dd>\n",
       "            </dl>\n",
       "        </div>\n",
       "        "
      ],
      "text/plain": [
       "<SparkContext master=spark://devenv:7077 appName=PySparkShell>"
      ]
     },
     "execution_count": 1,
     "metadata": {},
     "output_type": "execute_result"
    }
   ],
   "source": [
    "sc"
   ]
  },
  {
   "cell_type": "code",
   "execution_count": 2,
   "id": "f75054cf",
   "metadata": {},
   "outputs": [
    {
     "data": {
      "text/html": [
       "\n",
       "            <div>\n",
       "                <p><b>SparkSession - hive</b></p>\n",
       "                \n",
       "        <div>\n",
       "            <p><b>SparkContext</b></p>\n",
       "\n",
       "            <p><a href=\"http://192.168.0.188:4040\">Spark UI</a></p>\n",
       "\n",
       "            <dl>\n",
       "              <dt>Version</dt>\n",
       "                <dd><code>v3.2.1</code></dd>\n",
       "              <dt>Master</dt>\n",
       "                <dd><code>spark://devenv:7077</code></dd>\n",
       "              <dt>AppName</dt>\n",
       "                <dd><code>PySparkShell</code></dd>\n",
       "            </dl>\n",
       "        </div>\n",
       "        \n",
       "            </div>\n",
       "        "
      ],
      "text/plain": [
       "<pyspark.sql.session.SparkSession at 0x7fb4f22d62b0>"
      ]
     },
     "execution_count": 2,
     "metadata": {},
     "output_type": "execute_result"
    }
   ],
   "source": [
    "spark"
   ]
  },
  {
   "cell_type": "code",
   "execution_count": 3,
   "id": "59e01462",
   "metadata": {},
   "outputs": [],
   "source": [
    "#將資料轉成parquet檔\n",
    "raw = spark.read.csv(\"hdfs://devenv/user/ml_datasets/ec_web_logs_analysis/raw/\",\n",
    "                    header = True,\n",
    "                    schema=\"device_id string, timestamp timestamp, product_category_id int,ip string, lat float, lon float, device_type int, connect_type int, age_group string, grnder int, member_id string\")"
   ]
  },
  {
   "cell_type": "code",
   "execution_count": 4,
   "id": "9c3e82f8",
   "metadata": {},
   "outputs": [],
   "source": [
    "raw.write.parquet(\"hdfs://devenv/user/ml_datasets/ec_web_logs_analysis/data/\")"
   ]
  },
  {
   "cell_type": "code",
   "execution_count": 3,
   "id": "6a37e2de",
   "metadata": {},
   "outputs": [],
   "source": [
    "from pyspark.sql import SparkSession\n",
    "from pyspark.sql.functions import isnull\n",
    "from pyspark.ml.feature import VectorAssembler\n",
    "from pyspark.ml.classification import DecisionTreeClassifier\n",
    "from pyspark.ml.evaluation import MulticlassClassificationEvaluator"
   ]
  },
  {
   "cell_type": "code",
   "execution_count": 4,
   "id": "a066cdf6",
   "metadata": {},
   "outputs": [
    {
     "name": "stdout",
     "output_type": "stream",
     "text": [
      "+--------------------+-------------------+-------------------+--------------------+---------+----------+-----------+------------+---------+------+--------------------+\n",
      "|           device_id|          timestamp|product_category_id|                  ip|      lat|       lon|device_type|connect_type|age_group|grnder|           member_id|\n",
      "+--------------------+-------------------+-------------------+--------------------+---------+----------+-----------+------------+---------+------+--------------------+\n",
      "|2eecf6cc-b2d8-f13...|2019-05-01 08:00:04|                132|     114.137.185.183|25.027023| 121.41819|          1|           2|     null|  null|c55941d974fa7f9cd...|\n",
      "|7f9b4249-b0df-39d...|2019-05-01 08:00:07|                 38|        115.82.34.79| 25.02705|121.557396|          2|           2|     null|  null|d578b2f0aa6e00f63...|\n",
      "|db396d28-b748-56a...|2019-05-01 08:00:12|                 17|      49.216.141.189|24.090103| 120.73134|          2|           2|     null|  null|5f27b787212e16900...|\n",
      "|0cabdfb3-b98e-9fb...|2019-05-01 08:00:15|                 60|         27.52.70.89|24.918932| 121.19233|          2|           1|    36-50|     0|adb6b4fc4af10ff68...|\n",
      "|1e232f10-8fa5-d17...|2019-05-01 08:00:19|                156|     223.136.185.112| 25.06417|121.426994|          1|           2|  over 50|     1|2af73f9c2f39b2ad0...|\n",
      "|0a95869d-aa7c-079...|2019-05-01 08:00:19|                104|         27.246.4.74|24.696573| 121.80277|          1|           1|     null|  null|ca6486a6f6d2b9b49...|\n",
      "|9804ffa2-b4b3-73c...|2019-05-01 08:00:20|                 53|2001:b400:e269:eb...|25.129053|  121.7445|          2|           2|    36-50|     0|88822a61c8cf27d95...|\n",
      "|b2d81105-baac-aed...|2019-05-01 08:00:20|                  6|      27.246.170.248| 22.95496|120.301216|          1|           2|     null|  null|97e6cb863f23b913f...|\n",
      "|8048c12c-b7cc-84d...|2019-05-01 08:00:23|                106|     101.137.154.116| 24.93326| 121.29555|          1|           2|     null|  null|76fc22be6cc209088...|\n",
      "|0b146116-8876-33b...|2019-05-01 08:00:23|                 11|     223.136.239.129|25.008995|121.479866|          2|           2|     null|  null|b0ddf7e8c19f6f175...|\n",
      "|5278c4ca-be80-21f...|2019-05-01 08:00:24|                113|      59.115.112.164| 25.11713|121.527435|          1|           2|    21-35|     1|177e57bfd28215195...|\n",
      "|985f29ee-ba58-6b2...|2019-05-01 08:00:27|                104|       39.10.197.228| 24.98072| 121.54427|          2|           2|    21-35|     1|5e94847dacd305725...|\n",
      "|b01fa9ff-b804-d91...|2019-05-01 08:00:38|                  3|2402:7500:539:379...|  24.9945|  121.5235|          2|           1|     null|  null|54b626b3b6a741931...|\n",
      "|bea679fd-af94-5d9...|2019-05-01 08:00:41|                  6|     101.136.237.118|25.066343|121.530396|          2|           2| under 20|     0|fad7773c3ce00c229...|\n",
      "|de7aac5a-babf-253...|2019-05-01 08:00:45|                 39|        110.28.65.94| 22.61878| 120.28969|          2|           2|     null|  null|2a907c67a50078613...|\n",
      "|e1cebe0d-a94e-a95...|2019-05-01 08:00:48|                 41|2401:e180:8821:be...|  24.0721| 120.43806|          2|           1|     null|  null|4e6e4c58df5bbd12b...|\n",
      "|d3f78cc5-a8fb-117...|2019-05-01 08:00:49|                 12|         39.9.39.103|  24.1759| 120.64938|          2|           2|     null|  null|2e86f48e8a67732c9...|\n",
      "|2ad6a032-93c4-082...|2019-05-01 08:00:50|                147|2001:b400:e27e:54...|24.994648| 121.51234|          1|           1|     null|  null|7b7319e6a63ba7bbf...|\n",
      "|417d6ce7-84bb-5bf...|2019-05-01 08:00:52|                123|2001:b400:e78f:73...|22.650072| 120.33544|          2|           1|    21-35|     1|a608624685fb00a6f...|\n",
      "|22866a34-ac33-933...|2019-05-01 08:00:53|                 27|       101.136.73.38|22.558563|  120.5574|          1|           1| under 20|     0|fc4b5e5ba21d9d752...|\n",
      "+--------------------+-------------------+-------------------+--------------------+---------+----------+-----------+------------+---------+------+--------------------+\n",
      "only showing top 20 rows\n",
      "\n"
     ]
    }
   ],
   "source": [
    "logs = spark.read.parquet(\"hdfs://devenv/user/ml_datasets/ec_web_logs_analysis/data/\")\n",
    "logs.show()"
   ]
  },
  {
   "cell_type": "code",
   "execution_count": 5,
   "id": "f79b7643",
   "metadata": {},
   "outputs": [
    {
     "name": "stdout",
     "output_type": "stream",
     "text": [
      "+-------------------+-----------+------------+------+\n",
      "|product_category_id|device_type|connect_type|grnder|\n",
      "+-------------------+-----------+------------+------+\n",
      "|                 60|          2|           1|     0|\n",
      "|                156|          1|           2|     1|\n",
      "|                 53|          2|           2|     0|\n",
      "|                113|          1|           2|     1|\n",
      "|                104|          2|           2|     1|\n",
      "|                  6|          2|           2|     0|\n",
      "|                123|          2|           1|     1|\n",
      "|                 27|          1|           1|     0|\n",
      "|                 64|          1|           2|     1|\n",
      "|                150|          1|           2|     1|\n",
      "|                107|          1|           1|     1|\n",
      "|                108|          2|           2|     1|\n",
      "|                 18|          1|           2|     0|\n",
      "|                 17|          2|           2|     0|\n",
      "|                 53|          1|           1|     1|\n",
      "|                  8|          2|           2|     0|\n",
      "|                115|          1|           2|     1|\n",
      "|                152|          1|           2|     1|\n",
      "|                 69|          2|           2|     0|\n",
      "|                 51|          2|           2|     0|\n",
      "+-------------------+-----------+------------+------+\n",
      "only showing top 20 rows\n",
      "\n"
     ]
    }
   ],
   "source": [
    "feature_prep = logs.select(\"product_category_id\", \"device_type\",\"connect_type\",\"grnder\").where(~isnull(\"grnder\"))\n",
    "feature_prep.show()"
   ]
  },
  {
   "cell_type": "code",
   "execution_count": 7,
   "id": "dbb98e25",
   "metadata": {},
   "outputs": [
    {
     "name": "stdout",
     "output_type": "stream",
     "text": [
      "+-------------------+-----------+------------+------+---------------+\n",
      "|product_category_id|device_type|connect_type|grnder|       features|\n",
      "+-------------------+-----------+------------+------+---------------+\n",
      "|                 60|          2|           1|     0| [60.0,2.0,1.0]|\n",
      "|                156|          1|           2|     1|[156.0,1.0,2.0]|\n",
      "|                 53|          2|           2|     0| [53.0,2.0,2.0]|\n",
      "|                113|          1|           2|     1|[113.0,1.0,2.0]|\n",
      "|                104|          2|           2|     1|[104.0,2.0,2.0]|\n",
      "|                  6|          2|           2|     0|  [6.0,2.0,2.0]|\n",
      "|                123|          2|           1|     1|[123.0,2.0,1.0]|\n",
      "|                 27|          1|           1|     0| [27.0,1.0,1.0]|\n",
      "|                 64|          1|           2|     1| [64.0,1.0,2.0]|\n",
      "|                150|          1|           2|     1|[150.0,1.0,2.0]|\n",
      "|                107|          1|           1|     1|[107.0,1.0,1.0]|\n",
      "|                108|          2|           2|     1|[108.0,2.0,2.0]|\n",
      "|                 18|          1|           2|     0| [18.0,1.0,2.0]|\n",
      "|                 17|          2|           2|     0| [17.0,2.0,2.0]|\n",
      "|                 53|          1|           1|     1| [53.0,1.0,1.0]|\n",
      "|                  8|          2|           2|     0|  [8.0,2.0,2.0]|\n",
      "|                115|          1|           2|     1|[115.0,1.0,2.0]|\n",
      "|                152|          1|           2|     1|[152.0,1.0,2.0]|\n",
      "|                 69|          2|           2|     0| [69.0,2.0,2.0]|\n",
      "|                 51|          2|           2|     0| [51.0,2.0,2.0]|\n",
      "+-------------------+-----------+------------+------+---------------+\n",
      "only showing top 20 rows\n",
      "\n"
     ]
    }
   ],
   "source": [
    "final_data = VectorAssembler(inputCols=[\"product_category_id\",\"device_type\",\"connect_type\"],outputCol=\"features\").transform(feature_prep)\n",
    "final_data.show()"
   ]
  },
  {
   "cell_type": "code",
   "execution_count": 8,
   "id": "f030807d",
   "metadata": {},
   "outputs": [],
   "source": [
    "train_data, test_data = final_data.randomSplit([0.7,0.3])"
   ]
  },
  {
   "cell_type": "code",
   "execution_count": 10,
   "id": "9a49ed08",
   "metadata": {},
   "outputs": [],
   "source": [
    "#Model training <DecisionTree>\n",
    "classifier = DecisionTreeClassifier(featuresCol=\"features\", labelCol=\"grnder\", maxDepth=10)\n",
    "model = classifier.fit(train_data)"
   ]
  },
  {
   "cell_type": "code",
   "execution_count": 11,
   "id": "b487f22c",
   "metadata": {},
   "outputs": [
    {
     "name": "stdout",
     "output_type": "stream",
     "text": [
      "+-------------------+-----------+------------+------+-------------+----------------+--------------------+----------+\n",
      "|product_category_id|device_type|connect_type|grnder|     features|   rawPrediction|         probability|prediction|\n",
      "+-------------------+-----------+------------+------+-------------+----------------+--------------------+----------+\n",
      "|                  1|          1|           1|     0|[1.0,1.0,1.0]|[22328.0,4150.0]|[0.84326610771206...|       0.0|\n",
      "|                  1|          1|           1|     0|[1.0,1.0,1.0]|[22328.0,4150.0]|[0.84326610771206...|       0.0|\n",
      "|                  1|          1|           1|     0|[1.0,1.0,1.0]|[22328.0,4150.0]|[0.84326610771206...|       0.0|\n",
      "|                  1|          1|           1|     0|[1.0,1.0,1.0]|[22328.0,4150.0]|[0.84326610771206...|       0.0|\n",
      "|                  1|          1|           1|     0|[1.0,1.0,1.0]|[22328.0,4150.0]|[0.84326610771206...|       0.0|\n",
      "|                  1|          1|           1|     0|[1.0,1.0,1.0]|[22328.0,4150.0]|[0.84326610771206...|       0.0|\n",
      "|                  1|          1|           1|     0|[1.0,1.0,1.0]|[22328.0,4150.0]|[0.84326610771206...|       0.0|\n",
      "|                  1|          1|           1|     0|[1.0,1.0,1.0]|[22328.0,4150.0]|[0.84326610771206...|       0.0|\n",
      "|                  1|          1|           1|     0|[1.0,1.0,1.0]|[22328.0,4150.0]|[0.84326610771206...|       0.0|\n",
      "|                  1|          1|           1|     0|[1.0,1.0,1.0]|[22328.0,4150.0]|[0.84326610771206...|       0.0|\n",
      "|                  1|          1|           1|     0|[1.0,1.0,1.0]|[22328.0,4150.0]|[0.84326610771206...|       0.0|\n",
      "|                  1|          1|           1|     0|[1.0,1.0,1.0]|[22328.0,4150.0]|[0.84326610771206...|       0.0|\n",
      "|                  1|          1|           1|     0|[1.0,1.0,1.0]|[22328.0,4150.0]|[0.84326610771206...|       0.0|\n",
      "|                  1|          1|           1|     0|[1.0,1.0,1.0]|[22328.0,4150.0]|[0.84326610771206...|       0.0|\n",
      "|                  1|          1|           1|     0|[1.0,1.0,1.0]|[22328.0,4150.0]|[0.84326610771206...|       0.0|\n",
      "|                  1|          1|           1|     0|[1.0,1.0,1.0]|[22328.0,4150.0]|[0.84326610771206...|       0.0|\n",
      "|                  1|          1|           1|     0|[1.0,1.0,1.0]|[22328.0,4150.0]|[0.84326610771206...|       0.0|\n",
      "|                  1|          1|           1|     0|[1.0,1.0,1.0]|[22328.0,4150.0]|[0.84326610771206...|       0.0|\n",
      "|                  1|          1|           1|     0|[1.0,1.0,1.0]|[22328.0,4150.0]|[0.84326610771206...|       0.0|\n",
      "|                  1|          1|           1|     0|[1.0,1.0,1.0]|[22328.0,4150.0]|[0.84326610771206...|       0.0|\n",
      "+-------------------+-----------+------------+------+-------------+----------------+--------------------+----------+\n",
      "only showing top 20 rows\n",
      "\n"
     ]
    }
   ],
   "source": [
    "predicted_test_data = model.transform(train_data)\n",
    "predicted_test_data.show()"
   ]
  },
  {
   "cell_type": "code",
   "execution_count": 12,
   "id": "4d8a871c",
   "metadata": {},
   "outputs": [
    {
     "name": "stdout",
     "output_type": "stream",
     "text": [
      "Accuracy: 0.9298376526286077\n"
     ]
    }
   ],
   "source": [
    "evalutor_accuracy = MulticlassClassificationEvaluator(labelCol='grnder',predictionCol='prediction',metricName='accuracy')\n",
    "print(\"Accuracy: {}\".format(evalutor_accuracy.evaluate(predicted_test_data)))"
   ]
  },
  {
   "cell_type": "code",
   "execution_count": null,
   "id": "f8d159f4",
   "metadata": {},
   "outputs": [],
   "source": [
    "model.save(\"file:///home/spark/Desktop/models/ec_web_logs_analysis/model_gender_prediction/\")"
   ]
  }
 ],
 "metadata": {
  "kernelspec": {
   "display_name": "Python 3",
   "language": "python",
   "name": "python3"
  },
  "language_info": {
   "codemirror_mode": {
    "name": "ipython",
    "version": 3
   },
   "file_extension": ".py",
   "mimetype": "text/x-python",
   "name": "python",
   "nbconvert_exporter": "python",
   "pygments_lexer": "ipython3",
   "version": "3.8.8"
  }
 },
 "nbformat": 4,
 "nbformat_minor": 5
}
