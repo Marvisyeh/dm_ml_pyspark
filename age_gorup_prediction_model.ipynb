{
 "cells": [
  {
   "cell_type": "code",
   "execution_count": 1,
   "id": "20ad1367",
   "metadata": {},
   "outputs": [
    {
     "data": {
      "text/html": [
       "\n",
       "            <div>\n",
       "                <p><b>SparkSession - hive</b></p>\n",
       "                \n",
       "        <div>\n",
       "            <p><b>SparkContext</b></p>\n",
       "\n",
       "            <p><a href=\"http://192.168.0.188:4040\">Spark UI</a></p>\n",
       "\n",
       "            <dl>\n",
       "              <dt>Version</dt>\n",
       "                <dd><code>v3.2.1</code></dd>\n",
       "              <dt>Master</dt>\n",
       "                <dd><code>spark://devenv:7077</code></dd>\n",
       "              <dt>AppName</dt>\n",
       "                <dd><code>PySparkShell</code></dd>\n",
       "            </dl>\n",
       "        </div>\n",
       "        \n",
       "            </div>\n",
       "        "
      ],
      "text/plain": [
       "<pyspark.sql.session.SparkSession at 0x7f935c1b4370>"
      ]
     },
     "execution_count": 1,
     "metadata": {},
     "output_type": "execute_result"
    }
   ],
   "source": [
    "spark"
   ]
  },
  {
   "cell_type": "code",
   "execution_count": 2,
   "id": "08215d98",
   "metadata": {
    "scrolled": true
   },
   "outputs": [
    {
     "data": {
      "text/html": [
       "\n",
       "        <div>\n",
       "            <p><b>SparkContext</b></p>\n",
       "\n",
       "            <p><a href=\"http://192.168.0.188:4040\">Spark UI</a></p>\n",
       "\n",
       "            <dl>\n",
       "              <dt>Version</dt>\n",
       "                <dd><code>v3.2.1</code></dd>\n",
       "              <dt>Master</dt>\n",
       "                <dd><code>spark://devenv:7077</code></dd>\n",
       "              <dt>AppName</dt>\n",
       "                <dd><code>PySparkShell</code></dd>\n",
       "            </dl>\n",
       "        </div>\n",
       "        "
      ],
      "text/plain": [
       "<SparkContext master=spark://devenv:7077 appName=PySparkShell>"
      ]
     },
     "execution_count": 2,
     "metadata": {},
     "output_type": "execute_result"
    }
   ],
   "source": [
    "sc"
   ]
  },
  {
   "cell_type": "code",
   "execution_count": 1,
   "id": "8c71eba9",
   "metadata": {},
   "outputs": [],
   "source": [
    "from pyspark.sql import SparkSession\n",
    "from pyspark.sql.functions import isnull\n",
    "from pyspark.ml.feature import VectorAssembler, StringIndexer\n",
    "from pyspark.ml.classification import DecisionTreeClassifier\n",
    "from pyspark.ml.evaluation import MulticlassClassificationEvaluator"
   ]
  },
  {
   "cell_type": "code",
   "execution_count": 4,
   "id": "1fed2fc8",
   "metadata": {},
   "outputs": [],
   "source": [
    "logs = spark.read.parquet('hdfs://devenv/user/ml_datasets/ec_web_logs_analysis/data/')"
   ]
  },
  {
   "cell_type": "code",
   "execution_count": 5,
   "id": "15cd51da",
   "metadata": {},
   "outputs": [],
   "source": [
    "# Preprocessing and feature engineering\n",
    "feature_prep = logs.select(\"product_category_id\", \"device_type\", \"connect_type\", \"age_group\") \\\n",
    "                   .where(~isnull(\"age_group\"))"
   ]
  },
  {
   "cell_type": "code",
   "execution_count": 6,
   "id": "8ec7bd2f",
   "metadata": {},
   "outputs": [],
   "source": [
    "feature_prep = StringIndexer(inputCol=\"age_group\", outputCol=\"age_group_indexed\") \\\n",
    "              .fit(feature_prep) \\\n",
    "              .transform(feature_prep)"
   ]
  },
  {
   "cell_type": "code",
   "execution_count": 7,
   "id": "4dff2712",
   "metadata": {},
   "outputs": [
    {
     "name": "stdout",
     "output_type": "stream",
     "text": [
      "+-------------------+-----------+------------+---------+-----------------+\n",
      "|product_category_id|device_type|connect_type|age_group|age_group_indexed|\n",
      "+-------------------+-----------+------------+---------+-----------------+\n",
      "|                 60|          2|           1|    36-50|              1.0|\n",
      "|                156|          1|           2|  over 50|              3.0|\n",
      "|                 53|          2|           2|    36-50|              1.0|\n",
      "|                113|          1|           2|    21-35|              0.0|\n",
      "|                104|          2|           2|    21-35|              0.0|\n",
      "|                  6|          2|           2| under 20|              2.0|\n",
      "|                123|          2|           1|    21-35|              0.0|\n",
      "|                 27|          1|           1| under 20|              2.0|\n",
      "|                 64|          1|           2|  over 50|              3.0|\n",
      "|                150|          1|           2|  over 50|              3.0|\n",
      "+-------------------+-----------+------------+---------+-----------------+\n",
      "only showing top 10 rows\n",
      "\n"
     ]
    }
   ],
   "source": [
    "# feature_prep.show(10)"
   ]
  },
  {
   "cell_type": "code",
   "execution_count": 8,
   "id": "b9ac80ab",
   "metadata": {},
   "outputs": [],
   "source": [
    "final_data = VectorAssembler(inputCols=[\"product_category_id\", \"device_type\", \"connect_type\"],\n",
    "                             outputCol=\"features\").transform(feature_prep)"
   ]
  },
  {
   "cell_type": "code",
   "execution_count": 9,
   "id": "ec3558f3",
   "metadata": {},
   "outputs": [
    {
     "name": "stdout",
     "output_type": "stream",
     "text": [
      "+-------------------+-----------+------------+---------+-----------------+---------------+\n",
      "|product_category_id|device_type|connect_type|age_group|age_group_indexed|       features|\n",
      "+-------------------+-----------+------------+---------+-----------------+---------------+\n",
      "|                 60|          2|           1|    36-50|              1.0| [60.0,2.0,1.0]|\n",
      "|                156|          1|           2|  over 50|              3.0|[156.0,1.0,2.0]|\n",
      "|                 53|          2|           2|    36-50|              1.0| [53.0,2.0,2.0]|\n",
      "|                113|          1|           2|    21-35|              0.0|[113.0,1.0,2.0]|\n",
      "|                104|          2|           2|    21-35|              0.0|[104.0,2.0,2.0]|\n",
      "|                  6|          2|           2| under 20|              2.0|  [6.0,2.0,2.0]|\n",
      "|                123|          2|           1|    21-35|              0.0|[123.0,2.0,1.0]|\n",
      "|                 27|          1|           1| under 20|              2.0| [27.0,1.0,1.0]|\n",
      "|                 64|          1|           2|  over 50|              3.0| [64.0,1.0,2.0]|\n",
      "|                150|          1|           2|  over 50|              3.0|[150.0,1.0,2.0]|\n",
      "+-------------------+-----------+------------+---------+-----------------+---------------+\n",
      "only showing top 10 rows\n",
      "\n"
     ]
    }
   ],
   "source": [
    "final_data.show(10)"
   ]
  },
  {
   "cell_type": "code",
   "execution_count": 10,
   "id": "35109458",
   "metadata": {},
   "outputs": [],
   "source": [
    "# Split data into train and test sets\n",
    "train_data, test_data = final_data.randomSplit([0.7, 0.3])"
   ]
  },
  {
   "cell_type": "code",
   "execution_count": 11,
   "id": "cc5ed325",
   "metadata": {},
   "outputs": [],
   "source": [
    "# Model training\n",
    "classifier = DecisionTreeClassifier(featuresCol=\"features\", labelCol=\"age_group_indexed\", maxDepth=10)\n",
    "model = classifier.fit(train_data)"
   ]
  },
  {
   "cell_type": "code",
   "execution_count": 12,
   "id": "6be4850d",
   "metadata": {},
   "outputs": [],
   "source": [
    "# Model training 隨機森林\n",
    "# classifier = RandomForestClassifier(featuresCol=\"features\", labelCol=\"age_group_indexed\", numTrees=100, maxDepth=10)\n",
    "# model = classifier.fit(train_data)"
   ]
  },
  {
   "cell_type": "code",
   "execution_count": 13,
   "id": "80fae549",
   "metadata": {},
   "outputs": [],
   "source": [
    "# 神經網路\n",
    "# from pyspark.ml.classification import MultilayerPerceptronClassifier\n",
    "# classifier = MultilayerPerceptronClassifier(featuresCol=\"features\", labelCol=\"age_group_indexed\", layers=[3, 10, 10, 4])\n",
    "# model = classifier.fit(train_data)"
   ]
  },
  {
   "cell_type": "code",
   "execution_count": null,
   "id": "66248c5c",
   "metadata": {},
   "outputs": [],
   "source": [
    "# 邏輯思回歸\n",
    "# from pyspark.ml.classification import LogisticRegression \n",
    "# classifier = LogisticRegression(featuresCol=\"features\", labelCol=\"age_group_indexed\")\n",
    "# model = classifier.fit(train_data)"
   ]
  },
  {
   "cell_type": "code",
   "execution_count": 14,
   "id": "3f3bb0c6",
   "metadata": {},
   "outputs": [],
   "source": [
    "# Transform the test data using the model to get predictions\n",
    "predicted_test_data = model.transform(test_data)"
   ]
  },
  {
   "cell_type": "code",
   "execution_count": 20,
   "id": "583e74c1",
   "metadata": {},
   "outputs": [
    {
     "name": "stdout",
     "output_type": "stream",
     "text": [
      "+------------+---------+-----------------+-------------+--------------------+--------------------+----------+\n",
      "|connect_type|age_group|age_group_indexed|     features|       rawPrediction|         probability|prediction|\n",
      "+------------+---------+-----------------+-------------+--------------------+--------------------+----------+\n",
      "|           1|    21-35|              0.0|[1.0,1.0,1.0]|[4310.0,7111.0,71...|[0.05064034778521...|       2.0|\n",
      "|           1|    36-50|              1.0|[1.0,1.0,1.0]|[4310.0,7111.0,71...|[0.05064034778521...|       2.0|\n",
      "|           1|    36-50|              1.0|[1.0,1.0,1.0]|[4310.0,7111.0,71...|[0.05064034778521...|       2.0|\n",
      "|           1|    36-50|              1.0|[1.0,1.0,1.0]|[4310.0,7111.0,71...|[0.05064034778521...|       2.0|\n",
      "|           1|  over 50|              3.0|[1.0,1.0,1.0]|[4310.0,7111.0,71...|[0.05064034778521...|       2.0|\n",
      "|           1|  over 50|              3.0|[1.0,1.0,1.0]|[4310.0,7111.0,71...|[0.05064034778521...|       2.0|\n",
      "|           1| under 20|              2.0|[1.0,1.0,1.0]|[4310.0,7111.0,71...|[0.05064034778521...|       2.0|\n",
      "|           1| under 20|              2.0|[1.0,1.0,1.0]|[4310.0,7111.0,71...|[0.05064034778521...|       2.0|\n",
      "|           1| under 20|              2.0|[1.0,1.0,1.0]|[4310.0,7111.0,71...|[0.05064034778521...|       2.0|\n",
      "|           1| under 20|              2.0|[1.0,1.0,1.0]|[4310.0,7111.0,71...|[0.05064034778521...|       2.0|\n",
      "+------------+---------+-----------------+-------------+--------------------+--------------------+----------+\n",
      "only showing top 10 rows\n",
      "\n"
     ]
    }
   ],
   "source": [
    "predicted_test_data.drop('product_category_id','device_type').show(10)"
   ]
  },
  {
   "cell_type": "code",
   "execution_count": 16,
   "id": "69f16fe5",
   "metadata": {},
   "outputs": [
    {
     "name": "stdout",
     "output_type": "stream",
     "text": [
      "Accuracy: {} 0.8244888597640891\n"
     ]
    }
   ],
   "source": [
    "# Evaluate the model performance\n",
    "evaluator_accuracy = MulticlassClassificationEvaluator(labelCol='age_group_indexed',\n",
    "                                                       predictionCol='prediction',\n",
    "                                                       metricName='accuracy')\n",
    "print(\"Accuracy: {}\", evaluator_accuracy.evaluate(predicted_test_data))"
   ]
  },
  {
   "cell_type": "code",
   "execution_count": 17,
   "id": "cdf778f7",
   "metadata": {},
   "outputs": [],
   "source": [
    "confusion_matrix_info = predicted_test_data.select(\"age_group_indexed\", \"prediction\")\\\n",
    "                                           .groupBy(\"age_group_indexed\", \"prediction\")\\\n",
    "                                           .count()"
   ]
  },
  {
   "cell_type": "code",
   "execution_count": 18,
   "id": "85f9da91",
   "metadata": {},
   "outputs": [
    {
     "name": "stdout",
     "output_type": "stream",
     "text": [
      "+-----------------+----------+-----+\n",
      "|age_group_indexed|prediction|count|\n",
      "+-----------------+----------+-----+\n",
      "|              0.0|       0.0|39460|\n",
      "|              0.0|       1.0| 3122|\n",
      "|              0.0|       2.0| 2445|\n",
      "|              0.0|       3.0| 2487|\n",
      "|              1.0|       0.0| 1238|\n",
      "|              1.0|       1.0|33485|\n",
      "|              1.0|       2.0| 4542|\n",
      "|              2.0|       0.0| 1350|\n",
      "|              2.0|       1.0| 4895|\n",
      "|              2.0|       2.0|32985|\n",
      "|              3.0|       0.0| 3712|\n",
      "|              3.0|       1.0| 1578|\n",
      "|              3.0|       2.0| 1414|\n",
      "|              3.0|       3.0|19887|\n",
      "+-----------------+----------+-----+\n",
      "\n"
     ]
    }
   ],
   "source": [
    "confusion_matrix_info.orderBy(\"age_group_indexed\", \"prediction\").show()"
   ]
  },
  {
   "cell_type": "code",
   "execution_count": 19,
   "id": "e4d1a3f6",
   "metadata": {},
   "outputs": [
    {
     "name": "stdout",
     "output_type": "stream",
     "text": [
      "+-----------------+----------+-----+\n",
      "|age_group_indexed|prediction|count|\n",
      "+-----------------+----------+-----+\n",
      "|              0.0|       0.0|39460|\n",
      "|              1.0|       0.0| 1238|\n",
      "|              2.0|       0.0| 1350|\n",
      "|              3.0|       0.0| 3712|\n",
      "|              0.0|       1.0| 3122|\n",
      "|              1.0|       1.0|33485|\n",
      "|              2.0|       1.0| 4895|\n",
      "|              3.0|       1.0| 1578|\n",
      "|              0.0|       2.0| 2445|\n",
      "|              1.0|       2.0| 4542|\n",
      "+-----------------+----------+-----+\n",
      "only showing top 10 rows\n",
      "\n"
     ]
    }
   ],
   "source": [
    "confusion_matrix_info.orderBy(\"prediction\", \"age_group_indexed\").show(10)"
   ]
  },
  {
   "cell_type": "code",
   "execution_count": null,
   "id": "a8ae567f",
   "metadata": {},
   "outputs": [],
   "source": [
    "# Save the model\n",
    "model.save(\"file:///home/spark/Desktop/models/ec_web_logs_analysis/model_age_group_prediction/\")"
   ]
  }
 ],
 "metadata": {
  "kernelspec": {
   "display_name": "Python 3",
   "language": "python",
   "name": "python3"
  },
  "language_info": {
   "codemirror_mode": {
    "name": "ipython",
    "version": 3
   },
   "file_extension": ".py",
   "mimetype": "text/x-python",
   "name": "python",
   "nbconvert_exporter": "python",
   "pygments_lexer": "ipython3",
   "version": "3.8.8"
  }
 },
 "nbformat": 4,
 "nbformat_minor": 5
}
