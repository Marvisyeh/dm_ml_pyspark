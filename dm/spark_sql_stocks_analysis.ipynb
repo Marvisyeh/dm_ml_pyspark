{
 "cells": [
  {
   "cell_type": "code",
   "execution_count": 1,
   "id": "cf9570e6",
   "metadata": {},
   "outputs": [
    {
     "data": {
      "text/html": [
       "\n",
       "            <div>\n",
       "                <p><b>SparkSession - hive</b></p>\n",
       "                \n",
       "        <div>\n",
       "            <p><b>SparkContext</b></p>\n",
       "\n",
       "            <p><a href=\"http://192.168.0.188:4040\">Spark UI</a></p>\n",
       "\n",
       "            <dl>\n",
       "              <dt>Version</dt>\n",
       "                <dd><code>v3.2.1</code></dd>\n",
       "              <dt>Master</dt>\n",
       "                <dd><code>spark://devenv:7077</code></dd>\n",
       "              <dt>AppName</dt>\n",
       "                <dd><code>PySparkShell</code></dd>\n",
       "            </dl>\n",
       "        </div>\n",
       "        \n",
       "            </div>\n",
       "        "
      ],
      "text/plain": [
       "<pyspark.sql.session.SparkSession at 0x7fd7783d6250>"
      ]
     },
     "execution_count": 1,
     "metadata": {},
     "output_type": "execute_result"
    }
   ],
   "source": [
    "spark"
   ]
  },
  {
   "cell_type": "code",
   "execution_count": 2,
   "id": "04d1572f",
   "metadata": {
    "scrolled": false
   },
   "outputs": [
    {
     "data": {
      "text/html": [
       "\n",
       "        <div>\n",
       "            <p><b>SparkContext</b></p>\n",
       "\n",
       "            <p><a href=\"http://192.168.0.188:4040\">Spark UI</a></p>\n",
       "\n",
       "            <dl>\n",
       "              <dt>Version</dt>\n",
       "                <dd><code>v3.2.1</code></dd>\n",
       "              <dt>Master</dt>\n",
       "                <dd><code>spark://devenv:7077</code></dd>\n",
       "              <dt>AppName</dt>\n",
       "                <dd><code>PySparkShell</code></dd>\n",
       "            </dl>\n",
       "        </div>\n",
       "        "
      ],
      "text/plain": [
       "<SparkContext master=spark://devenv:7077 appName=PySparkShell>"
      ]
     },
     "execution_count": 2,
     "metadata": {},
     "output_type": "execute_result"
    }
   ],
   "source": [
    "sc"
   ]
  },
  {
   "cell_type": "markdown",
   "id": "753cc648",
   "metadata": {},
   "source": [
    "### READ CSV"
   ]
  },
  {
   "cell_type": "code",
   "execution_count": 26,
   "id": "4fed9da9",
   "metadata": {},
   "outputs": [],
   "source": [
    "# stock_df = spark.read.csv('hdfs://devenv/user/datasets/data/stocks.csv',\n",
    "#                          header=True,\n",
    "#                          schema='symbol string,day date,open float,\\\n",
    "#                          high float,low float,close float,volumn long,adj_close float')\n",
    "stock_df = spark.read.csv('hdfs://devenv/user/datasets/data/stocks.csv',\n",
    "                         header=True,\n",
    "                         inferSchema=True)#自動判斷型別"
   ]
  },
  {
   "cell_type": "code",
   "execution_count": 27,
   "id": "9e3740e3",
   "metadata": {},
   "outputs": [
    {
     "name": "stdout",
     "output_type": "stream",
     "text": [
      "root\n",
      " |-- symbol: string (nullable = true)\n",
      " |-- day: string (nullable = true)\n",
      " |-- open: double (nullable = true)\n",
      " |-- high: double (nullable = true)\n",
      " |-- low: double (nullable = true)\n",
      " |-- close: double (nullable = true)\n",
      " |-- volumn: integer (nullable = true)\n",
      " |-- adj_close: double (nullable = true)\n",
      "\n"
     ]
    }
   ],
   "source": [
    "stock_df.printSchema()"
   ]
  },
  {
   "cell_type": "code",
   "execution_count": 16,
   "id": "a21fc22e",
   "metadata": {},
   "outputs": [],
   "source": [
    "stock_df.createOrReplaceTempView(\"stocks\")"
   ]
  },
  {
   "cell_type": "code",
   "execution_count": 17,
   "id": "44bc5aba",
   "metadata": {},
   "outputs": [
    {
     "name": "stdout",
     "output_type": "stream",
     "text": [
      "+------+----------+------+------+------+------+--------+---------+\n",
      "|symbol|       day|  open|  high|   low| close|  volumn|adj_close|\n",
      "+------+----------+------+------+------+------+--------+---------+\n",
      "|  AAPL|2009-01-02| 85.88| 91.04| 85.16| 90.75|26643400|    90.75|\n",
      "|  AAPL|2008-01-02|199.27|200.26|192.55|194.84|38542100|   194.84|\n",
      "|  AAPL|2007-01-03| 86.29| 86.58|  81.9|  83.8|44225700|     83.8|\n",
      "|  AAPL|2006-01-03| 72.38| 74.75| 72.25| 74.75|28829800|    74.75|\n",
      "|  AAPL|2005-01-03| 64.78| 65.11|  62.6| 63.29|24714000|    31.65|\n",
      "|  AAPL|2004-01-02| 21.55| 21.75| 21.18| 21.28| 5165800|    10.64|\n",
      "|  AAPL|2003-01-02| 14.36| 14.92| 14.35|  14.8| 6479600|      7.4|\n",
      "|  AAPL|2002-01-02| 22.05|  23.3| 21.96|  23.3|18910600|    11.65|\n",
      "|  AAPL|2001-01-02| 14.88| 15.25| 14.56| 14.88|16161800|     7.44|\n",
      "|  AAPL|2000-01-03|104.87| 112.5|101.69|111.94|19144400|    27.99|\n",
      "|  CSCO|2009-01-02| 16.41|  17.0| 16.25| 16.96|40980600|    16.96|\n",
      "|  CSCO|2008-01-02|  27.0|  27.3| 26.21| 26.54|64338900|    26.54|\n",
      "|  CSCO|2007-01-03| 27.46| 27.98| 27.33| 27.73|64226000|    27.73|\n",
      "|  CSCO|2006-01-03| 17.21| 17.49| 17.18| 17.45|55426000|    17.45|\n",
      "|  CSCO|2005-01-03| 19.42| 19.61| 19.27| 19.32|56725600|    19.32|\n",
      "|  CSCO|2004-01-02| 24.36| 24.53| 24.16| 24.25|29955800|    24.25|\n",
      "|  CSCO|2003-01-02| 13.11| 13.69| 13.09| 13.64|61335700|    13.64|\n",
      "|  CSCO|2002-01-02| 18.44|  19.3| 18.26| 19.23|55376900|    19.23|\n",
      "|  CSCO|2001-01-02| 38.13|  38.5| 32.63| 33.31|17384600|    33.31|\n",
      "|  CSCO|2000-01-03|109.94|110.25|103.56|108.06|53076000|    54.03|\n",
      "+------+----------+------+------+------+------+--------+---------+\n",
      "only showing top 20 rows\n",
      "\n"
     ]
    }
   ],
   "source": [
    "stock_df.show()"
   ]
  },
  {
   "cell_type": "code",
   "execution_count": 18,
   "id": "1f050995",
   "metadata": {},
   "outputs": [
    {
     "name": "stdout",
     "output_type": "stream",
     "text": [
      "+------+------------------+------------------+---------+\n",
      "|symbol|          avg_open|         avg_close|rec_count|\n",
      "+------+------------------+------------------+---------+\n",
      "|  AAPL| 68.63099994659424| 69.36300029754639|       10|\n",
      "|  CSCO|31.148000240325928|30.648999881744384|       10|\n",
      "|  YHOO| 69.33300113677979| 72.60900020599365|       10|\n",
      "|  GOOG| 417.4779968261719| 422.4080047607422|        5|\n",
      "|  MSFT| 44.63100051879883| 44.71400032043457|       10|\n",
      "+------+------------------+------------------+---------+\n",
      "\n"
     ]
    }
   ],
   "source": [
    "result_df = spark.sql(\"\"\"select symbol, avg(open) as avg_open, avg(close) as avg_close, count(1) as rec_count FROM stocks group by symbol\"\"\")\n",
    "result_df.show()"
   ]
  },
  {
   "cell_type": "code",
   "execution_count": 19,
   "id": "e8665452",
   "metadata": {},
   "outputs": [],
   "source": [
    "# result_df.write.csv('hdfs://devenv/user/stock_analysis')\n",
    "# result_df.write.json('hdfs://devenv/user/stock_analysis')"
   ]
  },
  {
   "cell_type": "code",
   "execution_count": 20,
   "id": "8a4d46b1",
   "metadata": {},
   "outputs": [
    {
     "data": {
      "text/html": [
       "<div>\n",
       "<style scoped>\n",
       "    .dataframe tbody tr th:only-of-type {\n",
       "        vertical-align: middle;\n",
       "    }\n",
       "\n",
       "    .dataframe tbody tr th {\n",
       "        vertical-align: top;\n",
       "    }\n",
       "\n",
       "    .dataframe thead th {\n",
       "        text-align: right;\n",
       "    }\n",
       "</style>\n",
       "<table border=\"1\" class=\"dataframe\">\n",
       "  <thead>\n",
       "    <tr style=\"text-align: right;\">\n",
       "      <th></th>\n",
       "      <th>symbol</th>\n",
       "      <th>avg_open</th>\n",
       "      <th>avg_close</th>\n",
       "      <th>rec_count</th>\n",
       "    </tr>\n",
       "  </thead>\n",
       "  <tbody>\n",
       "    <tr>\n",
       "      <th>0</th>\n",
       "      <td>AAPL</td>\n",
       "      <td>68.631000</td>\n",
       "      <td>69.363000</td>\n",
       "      <td>10</td>\n",
       "    </tr>\n",
       "    <tr>\n",
       "      <th>1</th>\n",
       "      <td>CSCO</td>\n",
       "      <td>31.148000</td>\n",
       "      <td>30.649000</td>\n",
       "      <td>10</td>\n",
       "    </tr>\n",
       "    <tr>\n",
       "      <th>2</th>\n",
       "      <td>YHOO</td>\n",
       "      <td>69.333001</td>\n",
       "      <td>72.609000</td>\n",
       "      <td>10</td>\n",
       "    </tr>\n",
       "    <tr>\n",
       "      <th>3</th>\n",
       "      <td>GOOG</td>\n",
       "      <td>417.477997</td>\n",
       "      <td>422.408005</td>\n",
       "      <td>5</td>\n",
       "    </tr>\n",
       "    <tr>\n",
       "      <th>4</th>\n",
       "      <td>MSFT</td>\n",
       "      <td>44.631001</td>\n",
       "      <td>44.714000</td>\n",
       "      <td>10</td>\n",
       "    </tr>\n",
       "  </tbody>\n",
       "</table>\n",
       "</div>"
      ],
      "text/plain": [
       "  symbol    avg_open   avg_close  rec_count\n",
       "0   AAPL   68.631000   69.363000         10\n",
       "1   CSCO   31.148000   30.649000         10\n",
       "2   YHOO   69.333001   72.609000         10\n",
       "3   GOOG  417.477997  422.408005          5\n",
       "4   MSFT   44.631001   44.714000         10"
      ]
     },
     "execution_count": 20,
     "metadata": {},
     "output_type": "execute_result"
    }
   ],
   "source": [
    "result_df.toPandas()"
   ]
  },
  {
   "cell_type": "code",
   "execution_count": 25,
   "id": "c4505cb6",
   "metadata": {},
   "outputs": [
    {
     "data": {
      "text/plain": [
       "Row(symbol='AAPL', avg_open=68.63099994659424, avg_close=69.36300029754639, rec_count=10)"
      ]
     },
     "execution_count": 25,
     "metadata": {},
     "output_type": "execute_result"
    }
   ],
   "source": [
    "# result_df.show()\n",
    "# result_df.collect()\n",
    "result_df.collect()[0]"
   ]
  },
  {
   "cell_type": "markdown",
   "id": "362704b9",
   "metadata": {},
   "source": [
    "### READ JSON"
   ]
  },
  {
   "cell_type": "code",
   "execution_count": 37,
   "id": "33f49dc7",
   "metadata": {},
   "outputs": [],
   "source": [
    "# stock_df = spark.read.json('hdfs://devenv/user/datasets/data/stocks.json',\n",
    "#                          schema='symbol string,day date,open float,\\\n",
    "#                          high float,low float,close float,volumn long,adj_close float')\n",
    "stock_df = spark.read.json('hdfs://devenv/user/datasets/data/stocks.json')"
   ]
  },
  {
   "cell_type": "code",
   "execution_count": 38,
   "id": "9e570af5",
   "metadata": {},
   "outputs": [
    {
     "name": "stdout",
     "output_type": "stream",
     "text": [
      "root\n",
      " |-- adj_close: double (nullable = true)\n",
      " |-- close: double (nullable = true)\n",
      " |-- date: string (nullable = true)\n",
      " |-- high: double (nullable = true)\n",
      " |-- low: double (nullable = true)\n",
      " |-- open: double (nullable = true)\n",
      " |-- symbol: string (nullable = true)\n",
      " |-- volume: long (nullable = true)\n",
      "\n"
     ]
    }
   ],
   "source": [
    "stock_df.printSchema()"
   ]
  },
  {
   "cell_type": "code",
   "execution_count": 36,
   "id": "d2aa6061",
   "metadata": {},
   "outputs": [
    {
     "name": "stdout",
     "output_type": "stream",
     "text": [
      "+------+------------------+------------------+---------+\n",
      "|symbol|          avg_open|         avg_close|rec_count|\n",
      "+------+------------------+------------------+---------+\n",
      "|  AAPL| 68.63099994659424| 69.36300029754639|       10|\n",
      "|  CSCO|31.148000240325928|30.648999881744384|       10|\n",
      "|  YHOO| 69.33300113677979| 72.60900020599365|       10|\n",
      "|  GOOG| 417.4779968261719| 422.4080047607422|        5|\n",
      "|  MSFT| 44.63100051879883| 44.71400032043457|       10|\n",
      "+------+------------------+------------------+---------+\n",
      "\n"
     ]
    }
   ],
   "source": [
    "stock_df.createOrReplaceTempView(\"stocks\")\n",
    "result_df = spark.sql(\"\"\"select symbol, avg(open) as avg_open, avg(close) as avg_close, count(1) as rec_count FROM stocks group by symbol\"\"\")\n",
    "result_df.show()"
   ]
  },
  {
   "cell_type": "code",
   "execution_count": null,
   "id": "d4eee8fe",
   "metadata": {},
   "outputs": [],
   "source": [
    "result_df.write.parquet('hdfs://devenv/user/stock_analysis')"
   ]
  }
 ],
 "metadata": {
  "kernelspec": {
   "display_name": "Python 3",
   "language": "python",
   "name": "python3"
  },
  "language_info": {
   "codemirror_mode": {
    "name": "ipython",
    "version": 3
   },
   "file_extension": ".py",
   "mimetype": "text/x-python",
   "name": "python",
   "nbconvert_exporter": "python",
   "pygments_lexer": "ipython3",
   "version": "3.8.8"
  }
 },
 "nbformat": 4,
 "nbformat_minor": 5
}
