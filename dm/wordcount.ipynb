{
 "cells": [
  {
   "cell_type": "code",
   "execution_count": 21,
   "id": "d9cccad3",
   "metadata": {},
   "outputs": [
    {
     "data": {
      "text/html": [
       "\n",
       "        <div>\n",
       "            <p><b>SparkContext</b></p>\n",
       "\n",
       "            <p><a href=\"http://192.168.0.188:4040\">Spark UI</a></p>\n",
       "\n",
       "            <dl>\n",
       "              <dt>Version</dt>\n",
       "                <dd><code>v3.2.1</code></dd>\n",
       "              <dt>Master</dt>\n",
       "                <dd><code>spark://devenv:7077</code></dd>\n",
       "              <dt>AppName</dt>\n",
       "                <dd><code>PySparkShell</code></dd>\n",
       "            </dl>\n",
       "        </div>\n",
       "        "
      ],
      "text/plain": [
       "<SparkContext master=spark://devenv:7077 appName=PySparkShell>"
      ]
     },
     "execution_count": 21,
     "metadata": {},
     "output_type": "execute_result"
    }
   ],
   "source": [
    "sc"
   ]
  },
  {
   "cell_type": "code",
   "execution_count": 22,
   "id": "9574058c",
   "metadata": {
    "scrolled": true
   },
   "outputs": [
    {
     "data": {
      "text/html": [
       "\n",
       "            <div>\n",
       "                <p><b>SparkSession - hive</b></p>\n",
       "                \n",
       "        <div>\n",
       "            <p><b>SparkContext</b></p>\n",
       "\n",
       "            <p><a href=\"http://192.168.0.188:4040\">Spark UI</a></p>\n",
       "\n",
       "            <dl>\n",
       "              <dt>Version</dt>\n",
       "                <dd><code>v3.2.1</code></dd>\n",
       "              <dt>Master</dt>\n",
       "                <dd><code>spark://devenv:7077</code></dd>\n",
       "              <dt>AppName</dt>\n",
       "                <dd><code>PySparkShell</code></dd>\n",
       "            </dl>\n",
       "        </div>\n",
       "        \n",
       "            </div>\n",
       "        "
      ],
      "text/plain": [
       "<pyspark.sql.session.SparkSession at 0x7fd9e12d9250>"
      ]
     },
     "execution_count": 22,
     "metadata": {},
     "output_type": "execute_result"
    }
   ],
   "source": [
    "spark"
   ]
  },
  {
   "cell_type": "code",
   "execution_count": null,
   "id": "83357eab",
   "metadata": {},
   "outputs": [],
   "source": [
    "lines = sc.textFile(\"hdfs://devenv/user/datasets/wordcount/data\")"
   ]
  },
  {
   "cell_type": "code",
   "execution_count": null,
   "id": "b66d7534",
   "metadata": {},
   "outputs": [],
   "source": [
    "words = lines.flatMap(lambda x: x.split(\" \"))"
   ]
  },
  {
   "cell_type": "code",
   "execution_count": null,
   "id": "a480fba8",
   "metadata": {},
   "outputs": [],
   "source": [
    "pairs = words.map(lambda x: (x,1))"
   ]
  },
  {
   "cell_type": "code",
   "execution_count": null,
   "id": "002f71f0",
   "metadata": {},
   "outputs": [],
   "source": [
    "wordcounts = pairs.reduceByKey(lambda x,y : x+y )"
   ]
  },
  {
   "cell_type": "code",
   "execution_count": null,
   "id": "0ce71164",
   "metadata": {
    "scrolled": false
   },
   "outputs": [],
   "source": [
    "wordcounts.saveAsTextFile(\"hdfs://devenv/user/wordcount/output\")"
   ]
  },
  {
   "cell_type": "code",
   "execution_count": null,
   "id": "a9c10e09",
   "metadata": {},
   "outputs": [],
   "source": [
    "wordcounts.take(20)"
   ]
  },
  {
   "cell_type": "markdown",
   "id": "429ea871",
   "metadata": {},
   "source": [
    "### 正規表示式 wordcount"
   ]
  },
  {
   "cell_type": "code",
   "execution_count": 23,
   "id": "df38184c",
   "metadata": {},
   "outputs": [],
   "source": [
    "import re"
   ]
  },
  {
   "cell_type": "code",
   "execution_count": 24,
   "id": "3b0fc095",
   "metadata": {},
   "outputs": [],
   "source": [
    "lines = sc.textFile(\"hdfs://devenv/user/datasets/wordcount/data\")"
   ]
  },
  {
   "cell_type": "code",
   "execution_count": 25,
   "id": "fd3114d8",
   "metadata": {},
   "outputs": [],
   "source": [
    "words = lines.flatMap(lambda x: re.compile(r'\\W+', re.UNICODE).split(x.lower()))"
   ]
  },
  {
   "cell_type": "code",
   "execution_count": 26,
   "id": "beee538a",
   "metadata": {},
   "outputs": [
    {
     "data": {
      "text/plain": [
       "['the',\n",
       " 'project',\n",
       " 'gutenberg',\n",
       " 'ebook',\n",
       " 'of',\n",
       " 'war',\n",
       " 'and',\n",
       " 'peace',\n",
       " 'by',\n",
       " 'leo']"
      ]
     },
     "execution_count": 26,
     "metadata": {},
     "output_type": "execute_result"
    }
   ],
   "source": [
    "words.take(10)"
   ]
  },
  {
   "cell_type": "code",
   "execution_count": 27,
   "id": "fb4f3090",
   "metadata": {},
   "outputs": [],
   "source": [
    "word_count = words.map(lambda x: (x,1)).reduceByKey(lambda x,y: x+y )"
   ]
  },
  {
   "cell_type": "code",
   "execution_count": 28,
   "id": "06022700",
   "metadata": {
    "scrolled": true
   },
   "outputs": [
    {
     "data": {
      "text/plain": [
       "[('project', 100),\n",
       " ('gutenberg', 93),\n",
       " ('ebook', 11),\n",
       " ('of', 15008),\n",
       " ('peace', 115),\n",
       " ('leo', 4),\n",
       " ('tolstoy', 13),\n",
       " ('', 35206),\n",
       " ('this', 2122),\n",
       " ('is', 3347)]"
      ]
     },
     "execution_count": 28,
     "metadata": {},
     "output_type": "execute_result"
    }
   ],
   "source": [
    "word_count.take(10)"
   ]
  },
  {
   "cell_type": "code",
   "execution_count": null,
   "id": "0e2a9b3d",
   "metadata": {
    "scrolled": false
   },
   "outputs": [],
   "source": [
    "wordcounts.saveAsTextFile(\"hdfs://devenv/user/wordcount/output_2\")"
   ]
  },
  {
   "cell_type": "code",
   "execution_count": null,
   "id": "3b7263c1",
   "metadata": {},
   "outputs": [],
   "source": [
    "!hadoop fs -cat hdfs://devenv/user/wordcount/output/*"
   ]
  },
  {
   "cell_type": "markdown",
   "id": "931e1d5a",
   "metadata": {},
   "source": [
    "### 中文分詞"
   ]
  },
  {
   "cell_type": "code",
   "execution_count": 29,
   "id": "e4e95485",
   "metadata": {},
   "outputs": [],
   "source": [
    "import jieba.analyse"
   ]
  },
  {
   "cell_type": "code",
   "execution_count": 24,
   "id": "b8fbce1c",
   "metadata": {},
   "outputs": [],
   "source": [
    "lines = sc.textFile(\"\")"
   ]
  },
  {
   "cell_type": "code",
   "execution_count": 25,
   "id": "fe7e483f",
   "metadata": {},
   "outputs": [],
   "source": [
    "words = lines.flatMap(lambda x: jieba.analyse.extract_tags(x))"
   ]
  },
  {
   "cell_type": "code",
   "execution_count": 26,
   "id": "d7b01d60",
   "metadata": {},
   "outputs": [
    {
     "data": {
      "text/plain": [
       "['the',\n",
       " 'project',\n",
       " 'gutenberg',\n",
       " 'ebook',\n",
       " 'of',\n",
       " 'war',\n",
       " 'and',\n",
       " 'peace',\n",
       " 'by',\n",
       " 'leo']"
      ]
     },
     "execution_count": 26,
     "metadata": {},
     "output_type": "execute_result"
    }
   ],
   "source": [
    "words.take(10)"
   ]
  },
  {
   "cell_type": "code",
   "execution_count": 27,
   "id": "94ea0e40",
   "metadata": {},
   "outputs": [],
   "source": [
    "word_counts = words.map(lambda x: (x,1)).reduceByKey(lambda x,y: x+y )"
   ]
  },
  {
   "cell_type": "code",
   "execution_count": 28,
   "id": "6b05a50e",
   "metadata": {
    "scrolled": true
   },
   "outputs": [
    {
     "data": {
      "text/plain": [
       "[('project', 100),\n",
       " ('gutenberg', 93),\n",
       " ('ebook', 11),\n",
       " ('of', 15008),\n",
       " ('peace', 115),\n",
       " ('leo', 4),\n",
       " ('tolstoy', 13),\n",
       " ('', 35206),\n",
       " ('this', 2122),\n",
       " ('is', 3347)]"
      ]
     },
     "execution_count": 28,
     "metadata": {},
     "output_type": "execute_result"
    }
   ],
   "source": [
    "word_counts.take(10)"
   ]
  }
 ],
 "metadata": {
  "kernelspec": {
   "display_name": "Python 3",
   "language": "python",
   "name": "python3"
  },
  "language_info": {
   "codemirror_mode": {
    "name": "ipython",
    "version": 3
   },
   "file_extension": ".py",
   "mimetype": "text/x-python",
   "name": "python",
   "nbconvert_exporter": "python",
   "pygments_lexer": "ipython3",
   "version": "3.8.8"
  }
 },
 "nbformat": 4,
 "nbformat_minor": 5
}
