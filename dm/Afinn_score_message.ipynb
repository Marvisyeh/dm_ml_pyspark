{
 "cells": [
  {
   "cell_type": "markdown",
   "id": "bdd55738",
   "metadata": {},
   "source": [
    "### 將推文轉成心情評分 Afinn"
   ]
  },
  {
   "cell_type": "code",
   "execution_count": null,
   "id": "58f1692e",
   "metadata": {},
   "outputs": [],
   "source": [
    "from pyspark.sql import SparkSession\n",
    "from pyspark.sql.functions import *\n",
    "from pyspark.sql.types import *\n",
    "from afinn import Afinn # 輿情分析"
   ]
  },
  {
   "cell_type": "code",
   "execution_count": null,
   "id": "a8e20934",
   "metadata": {},
   "outputs": [],
   "source": [
    "# (1) Define a normal Python function and match arguments to your UDF\n",
    "model = Afinn()\n",
    "\n",
    "def score_message_py(msg):\n",
    "    global model\n",
    "    return model.score(msg)"
   ]
  },
  {
   "cell_type": "code",
   "execution_count": null,
   "id": "7f19e103",
   "metadata": {},
   "outputs": [],
   "source": [
    "# (2) Register UDF function\n",
    "score_message = udf(score_message_py, FloatType()) # for DataFrame transformation API\n",
    "spark.udf.register(\"score_message\", score_message_py, FloatType()) # for SQL"
   ]
  },
  {
   "cell_type": "code",
   "execution_count": null,
   "id": "d073e3ad",
   "metadata": {},
   "outputs": [],
   "source": [
    "# Get average user sentimental scores\n",
    "df = spark.read.csv(\"hdfs://devenv/user/spark/messages/data\",\n",
    "                    header=True,\n",
    "                    inferSchema=True)"
   ]
  },
  {
   "cell_type": "code",
   "execution_count": null,
   "id": "b31a1859",
   "metadata": {},
   "outputs": [],
   "source": [
    "# (i) Using DF transformations\n",
    "scored = df.select(df[\"user\"], score_message(df[\"message\"]).alias(\"score\"))\n",
    "result = scored.groupBy(\"user\").agg(avg(\"score\"))\n",
    "result.show(10000)"
   ]
  },
  {
   "cell_type": "code",
   "execution_count": null,
   "id": "434e58ec",
   "metadata": {},
   "outputs": [],
   "source": [
    "# (ii) Using SQL\n",
    "df.createOrReplaceTempView(\"messages\")\n",
    "result = spark.sql(\"select user, avg(score_message(message)) from messages group by user\")\n",
    "result.show(10000) "
   ]
  }
 ],
 "metadata": {
  "kernelspec": {
   "display_name": "Python 3",
   "language": "python",
   "name": "python3"
  },
  "language_info": {
   "codemirror_mode": {
    "name": "ipython",
    "version": 3
   },
   "file_extension": ".py",
   "mimetype": "text/x-python",
   "name": "python",
   "nbconvert_exporter": "python",
   "pygments_lexer": "ipython3",
   "version": "3.8.8"
  }
 },
 "nbformat": 4,
 "nbformat_minor": 5
}
