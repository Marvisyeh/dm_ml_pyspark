{
 "cells": [
  {
   "cell_type": "code",
   "execution_count": null,
   "id": "6f8c4c2d",
   "metadata": {},
   "outputs": [],
   "source": [
    "from pyspark.sql import SparkSession"
   ]
  },
  {
   "cell_type": "code",
   "execution_count": 1,
   "id": "4079db88",
   "metadata": {
    "scrolled": true
   },
   "outputs": [
    {
     "data": {
      "text/html": [
       "\n",
       "            <div>\n",
       "                <p><b>SparkSession - hive</b></p>\n",
       "                \n",
       "        <div>\n",
       "            <p><b>SparkContext</b></p>\n",
       "\n",
       "            <p><a href=\"http://192.168.0.188:4040\">Spark UI</a></p>\n",
       "\n",
       "            <dl>\n",
       "              <dt>Version</dt>\n",
       "                <dd><code>v3.2.1</code></dd>\n",
       "              <dt>Master</dt>\n",
       "                <dd><code>spark://devenv:7077</code></dd>\n",
       "              <dt>AppName</dt>\n",
       "                <dd><code>PySparkShell</code></dd>\n",
       "            </dl>\n",
       "        </div>\n",
       "        \n",
       "            </div>\n",
       "        "
      ],
      "text/plain": [
       "<pyspark.sql.session.SparkSession at 0x7fb6df6aa250>"
      ]
     },
     "execution_count": 1,
     "metadata": {},
     "output_type": "execute_result"
    }
   ],
   "source": [
    "spark"
   ]
  },
  {
   "cell_type": "code",
   "execution_count": 2,
   "id": "f1f05890",
   "metadata": {},
   "outputs": [
    {
     "data": {
      "text/html": [
       "\n",
       "        <div>\n",
       "            <p><b>SparkContext</b></p>\n",
       "\n",
       "            <p><a href=\"http://192.168.0.188:4040\">Spark UI</a></p>\n",
       "\n",
       "            <dl>\n",
       "              <dt>Version</dt>\n",
       "                <dd><code>v3.2.1</code></dd>\n",
       "              <dt>Master</dt>\n",
       "                <dd><code>spark://devenv:7077</code></dd>\n",
       "              <dt>AppName</dt>\n",
       "                <dd><code>PySparkShell</code></dd>\n",
       "            </dl>\n",
       "        </div>\n",
       "        "
      ],
      "text/plain": [
       "<SparkContext master=spark://devenv:7077 appName=PySparkShell>"
      ]
     },
     "execution_count": 2,
     "metadata": {},
     "output_type": "execute_result"
    }
   ],
   "source": [
    "sc"
   ]
  },
  {
   "cell_type": "code",
   "execution_count": 3,
   "id": "e5211fdb",
   "metadata": {},
   "outputs": [],
   "source": [
    "data = spark.read.csv('hdfs://devenv/user/datasets/crime/data/', header=True, inferSchema=True)"
   ]
  },
  {
   "cell_type": "code",
   "execution_count": 5,
   "id": "b670d7ff",
   "metadata": {},
   "outputs": [
    {
     "name": "stdout",
     "output_type": "stream",
     "text": [
      "+---------+--------------------+--------------------+--------------------+-----+----+-----+\n",
      "|lsoa_code|             borough|      major_category|      minor_category|value|year|month|\n",
      "+---------+--------------------+--------------------+--------------------+-----+----+-----+\n",
      "|E01004563|          Wandsworth|             Robbery|   Personal Property|    0|2008|    6|\n",
      "|E01003496|              Newham|     Criminal Damage|Criminal Damage T...|    0|2013|    9|\n",
      "|E01000086|Barking and Dagenham|  Theft and Handling|  Other Theft Person|    1|2009|    5|\n",
      "|E01001317|              Ealing|            Burglary|Burglary in a Dwe...|    0|2013|    9|\n",
      "|E01000713|             Bromley|Violence Against ...|    Offensive Weapon|    0|2009|   12|\n",
      "|E01000606|               Brent|  Theft and Handling|Motor Vehicle Int...|    0|2015|    9|\n",
      "|E01003211|            Lewisham|  Theft and Handling|  Other Theft Person|    0|2009|   12|\n",
      "|E01003902|Richmond upon Thames|     Criminal Damage|Criminal Damage T...|    0|2013|    3|\n",
      "|E01003264|            Lewisham|Other Notifiable ...|    Other Notifiable|    0|2008|    6|\n",
      "|E01000233|              Barnet|             Robbery|   Business Property|    0|2013|    6|\n",
      "|E01003311|            Lewisham|            Burglary|Burglary in Other...|    0|2014|    2|\n",
      "|E01000098|Barking and Dagenham|            Burglary|Burglary in Other...|    0|2013|    4|\n",
      "|E01000039|Barking and Dagenham|Violence Against ...|          Harassment|    0|2012|   12|\n",
      "|E01000228|              Barnet|               Drugs| Possession Of Drugs|    0|2011|   10|\n",
      "|E01003849|Richmond upon Thames|  Theft and Handling|Theft From Motor ...|    1|2011|    8|\n",
      "|E01003918|           Southwark|     Criminal Damage|Other Criminal Da...|    0|2011|    1|\n",
      "|E01004298|       Tower Hamlets|            Burglary|Burglary in a Dwe...|    0|2016|    3|\n",
      "|E01003862|Richmond upon Thames|Violence Against ...|      Common Assault|    0|2015|    3|\n",
      "|E01000705|             Bromley|     Criminal Damage|Other Criminal Da...|    0|2013|    4|\n",
      "|E01004642|          Wandsworth|               Drugs| Possession Of Drugs|    1|2008|    6|\n",
      "+---------+--------------------+--------------------+--------------------+-----+----+-----+\n",
      "only showing top 20 rows\n",
      "\n"
     ]
    }
   ],
   "source": [
    "data.show()"
   ]
  },
  {
   "cell_type": "code",
   "execution_count": 7,
   "id": "bd750a6a",
   "metadata": {},
   "outputs": [
    {
     "name": "stdout",
     "output_type": "stream",
     "text": [
      "+--------------------+--------------------+--------------------+-----+----+-----+\n",
      "|             borough|      major_category|      minor_category|value|year|month|\n",
      "+--------------------+--------------------+--------------------+-----+----+-----+\n",
      "|               Brent|  Theft and Handling|Motor Vehicle Int...|    0|2015|    9|\n",
      "|       Tower Hamlets|            Burglary|Burglary in a Dwe...|    0|2016|    3|\n",
      "|Richmond upon Thames|Violence Against ...|      Common Assault|    0|2015|    3|\n",
      "|               Brent|  Theft and Handling|Theft/Taking of P...|    0|2015|    1|\n",
      "|           Redbridge|            Burglary|Burglary in Other...|    0|2015|    2|\n",
      "|             Bromley|     Criminal Damage|Criminal Damage T...|    0|2015|    9|\n",
      "|          Hillingdon|Violence Against ...|        Wounding/GBH|    1|2015|    6|\n",
      "|              Ealing|  Theft and Handling|  Other Theft Person|    0|2015|    8|\n",
      "|           Greenwich|     Criminal Damage|Criminal Damage T...|    0|2015|    1|\n",
      "|           Redbridge|Other Notifiable ...|      Going Equipped|    0|2015|    9|\n",
      "+--------------------+--------------------+--------------------+-----+----+-----+\n",
      "only showing top 10 rows\n",
      "\n"
     ]
    }
   ],
   "source": [
    "crime_2015 = data.filter('year>=2015').drop('lsoa_code')\n",
    "crime_2015.show(10)"
   ]
  },
  {
   "cell_type": "code",
   "execution_count": 10,
   "id": "55a0da1f",
   "metadata": {},
   "outputs": [
    {
     "name": "stdout",
     "output_type": "stream",
     "text": [
      "+--------------------+----------+\n",
      "|             borough|sum(value)|\n",
      "+--------------------+----------+\n",
      "|             Croydon|      5669|\n",
      "|          Wandsworth|      4791|\n",
      "|              Bexley|      2513|\n",
      "|             Lambeth|      6837|\n",
      "|Barking and Dagenham|      3310|\n",
      "|              Camden|      5790|\n",
      "|           Greenwich|      4413|\n",
      "|              Newham|      5807|\n",
      "|       Tower Hamlets|      5855|\n",
      "|              Barnet|      4960|\n",
      "+--------------------+----------+\n",
      "only showing top 10 rows\n",
      "\n"
     ]
    }
   ],
   "source": [
    "convictions_by_brough = crime_2015.groupBy('borough').agg({'value':'sum'})\n",
    "convictions_by_brough.show(10)"
   ]
  },
  {
   "cell_type": "code",
   "execution_count": 11,
   "id": "8a753b71",
   "metadata": {},
   "outputs": [
    {
     "name": "stdout",
     "output_type": "stream",
     "text": [
      "+--------------------+------------------+\n",
      "|             borough|num_of_convictions|\n",
      "+--------------------+------------------+\n",
      "|             Croydon|              5669|\n",
      "|          Wandsworth|              4791|\n",
      "|              Bexley|              2513|\n",
      "|             Lambeth|              6837|\n",
      "|Barking and Dagenham|              3310|\n",
      "|              Camden|              5790|\n",
      "|           Greenwich|              4413|\n",
      "|              Newham|              5807|\n",
      "|       Tower Hamlets|              5855|\n",
      "|              Barnet|              4960|\n",
      "+--------------------+------------------+\n",
      "only showing top 10 rows\n",
      "\n"
     ]
    }
   ],
   "source": [
    "convictions_by_brough = convictions_by_brough.withColumnRenamed('sum(value)','num_of_convictions')\n",
    "convictions_by_brough.show(10)"
   ]
  },
  {
   "cell_type": "code",
   "execution_count": 14,
   "id": "d26f3ce0",
   "metadata": {},
   "outputs": [],
   "source": [
    "total_convictions = convictions_by_brough.agg({'num_of_convictions':'sum'}).collect()[0][0]"
   ]
  },
  {
   "cell_type": "code",
   "execution_count": 19,
   "id": "90b8cf05",
   "metadata": {},
   "outputs": [
    {
     "name": "stdout",
     "output_type": "stream",
     "text": [
      "+--------------------+------------------+----------------------+\n",
      "|             borough|num_of_convictions|percentage_convictions|\n",
      "+--------------------+------------------+----------------------+\n",
      "|             Croydon|              5669|                  3.88|\n",
      "|          Wandsworth|              4791|                  3.28|\n",
      "|              Bexley|              2513|                  1.72|\n",
      "|             Lambeth|              6837|                  4.68|\n",
      "|Barking and Dagenham|              3310|                  2.27|\n",
      "|              Camden|              5790|                  3.97|\n",
      "|           Greenwich|              4413|                  3.02|\n",
      "|              Newham|              5807|                  3.98|\n",
      "|       Tower Hamlets|              5855|                  4.01|\n",
      "|              Barnet|              4960|                  3.40|\n",
      "+--------------------+------------------+----------------------+\n",
      "only showing top 10 rows\n",
      "\n"
     ]
    }
   ],
   "source": [
    "from pyspark.sql.functions import *\n",
    "convictions_by_borough_with_percentage = convictions_by_brough.withColumn(\"percentage_convictions\",format_number(convictions_by_brough[\"num_of_convictions\"]/total_convictions*100,2))\n",
    "convictions_by_borough_with_percentage.show(10)"
   ]
  },
  {
   "cell_type": "code",
   "execution_count": null,
   "id": "f8df285e",
   "metadata": {},
   "outputs": [],
   "source": [
    "# convictions_by_borough_with_percentage.persist()\n",
    "\n",
    "# # show result of 100 records to console\n",
    "# convictions_by_borough_with_percentage.show(100)\n",
    "\n",
    "# write result to MySQL Table convictions_by_borough_with_percentage\n",
    "convictions_by_borough_with_percentage.write \\\n",
    "                          .option(\"driver\", \"com.mysql.jdbc.Driver\") \\\n",
    "                          .jdbc(\"jdbc:mysql://localhost:3306\", \"crime.convictions_by_borough_with_percentage\",\n",
    "                                properties={\"user\": \"spark\", \"password\": \"1qaz@wsX\"})"
   ]
  }
 ],
 "metadata": {
  "kernelspec": {
   "display_name": "Python 3",
   "language": "python",
   "name": "python3"
  },
  "language_info": {
   "codemirror_mode": {
    "name": "ipython",
    "version": 3
   },
   "file_extension": ".py",
   "mimetype": "text/x-python",
   "name": "python",
   "nbconvert_exporter": "python",
   "pygments_lexer": "ipython3",
   "version": "3.8.8"
  }
 },
 "nbformat": 4,
 "nbformat_minor": 5
}
