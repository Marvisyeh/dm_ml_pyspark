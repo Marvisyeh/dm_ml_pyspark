{
 "cells": [
  {
   "cell_type": "code",
   "execution_count": 2,
   "id": "a2cc2556",
   "metadata": {},
   "outputs": [],
   "source": [
    "book = spark.read.csv('hdfs://devenv/user/datasets/wordcount/data/',\n",
    "                     sep='\\0',\n",
    "                     schema='line string')"
   ]
  },
  {
   "cell_type": "code",
   "execution_count": 3,
   "id": "d626eec1",
   "metadata": {},
   "outputs": [],
   "source": [
    "book.createOrReplaceTempView(\"book\")\n",
    "word_counts = spark.sql(\"\"\"SELECT word, count(1) as count\n",
    "                            FROM\n",
    "                            (\n",
    "                            SELECT explode(split(lower(line), '\\\\\\W+')) as word FROM book\n",
    "                            ) tbl\n",
    "                            GROUP BY word\n",
    "                            ORDER BY count DESC\"\"\")"
   ]
  },
  {
   "cell_type": "code",
   "execution_count": 4,
   "id": "d0ea102c",
   "metadata": {
    "scrolled": true
   },
   "outputs": [
    {
     "name": "stdout",
     "output_type": "stream",
     "text": [
      "+----+-----+\n",
      "|word|count|\n",
      "+----+-----+\n",
      "| the|34721|\n",
      "| and|22303|\n",
      "|    |19768|\n",
      "|  to|16755|\n",
      "|  of|15008|\n",
      "|   a|10609|\n",
      "|  he|10005|\n",
      "|  in| 9036|\n",
      "|that| 8205|\n",
      "| his| 7984|\n",
      "| was| 7360|\n",
      "|with| 5710|\n",
      "|  it| 5617|\n",
      "| had| 5365|\n",
      "| her| 4725|\n",
      "| not| 4697|\n",
      "| him| 4637|\n",
      "|  at| 4547|\n",
      "|   i| 4541|\n",
      "|   s| 4416|\n",
      "+----+-----+\n",
      "only showing top 20 rows\n",
      "\n"
     ]
    }
   ],
   "source": [
    "word_counts.show()"
   ]
  },
  {
   "cell_type": "code",
   "execution_count": null,
   "id": "2020f5ca",
   "metadata": {},
   "outputs": [],
   "source": [
    "# word_counts.write.csv(\"file://///Users/henglingyeh/Desktop/wordcount\")\n",
    "## 寫到database\n",
    "word_counts.write.option(\"driver\",\"com.mysql.jdbc.Driver\").\\ #調度Driver\n",
    "                  jdbc(\"jdbc:mysql://127.0.0.1:3306\", #資料庫位置\n",
    "                       \"wordcount.wordcount\", #資料庫名稱\n",
    "                       properties={\"user\":\"spark\", \"password\":\"spark\"} #帳號密碼\n",
    "                      )"
   ]
  },
  {
   "cell_type": "markdown",
   "id": "8de9c9e4",
   "metadata": {},
   "source": [
    "### 文字雲"
   ]
  },
  {
   "cell_type": "code",
   "execution_count": null,
   "id": "949851c7",
   "metadata": {},
   "outputs": [],
   "source": [
    "# from os import path #用來獲取文檔的路徑 \n",
    "# #詞雲 \n",
    "# from PIL import Image \n",
    "# import numpy as np \n",
    "# import matplotlib.pyplot as plt \n",
    "# #詞雲生成工具 \n",
    "# from wordcloud import WordCloud,ImageColorGenerator \n",
    "# #需要對中文進行處理 \n",
    "# import matplotlib.font_manager as fm\n",
    "# #背景圖 \n",
    "# bg=np.array(Image.open(\"man.jpg\")) \n",
    "# #獲取當前的項目文件加的路徑 \n",
    "# # d=path.dirname(__file__) \n",
    "    \n",
    "# #生成 \n",
    "# wc=WordCloud( background_color=\"white\", max_words=200, mask=bg, #設置圖片的背景 \n",
    "#              max_font_size=60, random_state=42, font_path='C:/Windows/Fonts/simkai.ttf' #中文處理，用系統自帶的字體 \n",
    "#             ).generate(text1) #為圖片設置字體 \n",
    "# my_font=fm.FontProperties(fname='C:/Windows/Fonts/simkai.ttf') \n",
    "# #產生背景圖片，基於彩色圖像的顏色生成器 \n",
    "# image_colors=ImageColorGenerator(bg) \n",
    "# #開始畫圖 \n",
    "# plt.imshow(wc.recolor(color_func=image_colors)) \n",
    "# #為雲圖去掉坐標軸 \n",
    "# plt.axis(\"off\") \n",
    "# #畫雲圖，顯示 \n",
    "# plt.figure() \n",
    "# #為背景圖去掉坐標軸 \n",
    "# plt.axis(\"off\") plt.imshow(bg,cmap=plt.cm.gray) \n",
    "# #保存雲圖 \n",
    "# wc.to_file(\"man.png\")"
   ]
  }
 ],
 "metadata": {
  "kernelspec": {
   "display_name": "Python 3",
   "language": "python",
   "name": "python3"
  },
  "language_info": {
   "codemirror_mode": {
    "name": "ipython",
    "version": 3
   },
   "file_extension": ".py",
   "mimetype": "text/x-python",
   "name": "python",
   "nbconvert_exporter": "python",
   "pygments_lexer": "ipython3",
   "version": "3.8.8"
  }
 },
 "nbformat": 4,
 "nbformat_minor": 5
}
